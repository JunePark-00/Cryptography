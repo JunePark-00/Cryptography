{
 "cells": [
  {
   "cell_type": "code",
   "execution_count": 35,
   "metadata": {},
   "outputs": [
    {
     "name": "stdout",
     "output_type": "stream",
     "text": [
      "Key:  {'A': 'L', 'B': 'G', 'C': 'Y', 'D': 'K', 'E': 'P', 'F': 'E', 'G': 'X', 'H': 'J', 'I': 'Z', 'J': 'U', 'K': 'C', 'L': 'I', 'M': 'S', 'N': 'V', 'O': 'H', 'P': 'F', 'Q': 'B', 'R': 'W', 'S': 'T', 'T': 'R', 'U': 'N', 'V': 'A', 'W': 'D', 'X': 'M', 'Y': 'O', 'Z': 'Q'}\n",
      "Plain Text:  MYNAMEISJUNE\n",
      "Encrypted Text:  SOVLSPZTUNVP\n",
      "Decrypted Text:  MYNAMEISJUNE\n"
     ]
    }
   ],
   "source": [
    "'''\n",
    "Implement the General Substitiution Cipher (enryption & decryption), the key is any\n",
    "permutation of the English alphabet without a space. The permissible alphabet is English\n",
    "alphabet without spaces (uppercase only). Inputs must be entered from standard input\n",
    "(keyboard), outputs will be written to standard output (console). You must handle any\n",
    "impermissible characters that would appear in the input. No GUI is needed yet, it can be a\n",
    "simple console application\n",
    "'''\n",
    "\n",
    "import random\n",
    "chars = 'ABCDEFGHIJKLMNOPQRSTUVWXYZ'\n",
    "\n",
    "def generateKey():\n",
    "    shuffle = sorted(chars, key=lambda k: random.random())\n",
    "    return(dict(zip(chars, shuffle)))\n",
    "\n",
    "def Encryption(key, plain):\n",
    "    return(''.join(key[l] for l in plain))\n",
    "\n",
    "def Decryption(key, cipher):\n",
    "    flip = {v: k for k, v in key.items()}\n",
    "    return(''.join(flip[l] for l in cipher))\n",
    "\n",
    "if __name__ == \"__main__\":\n",
    "    plain = 'My name is June!'\n",
    "    plain = plain.replace(\" \",\"\")\n",
    "    plain = plain.upper()\n",
    "    p_list = list(plain)\n",
    "    for i in range(len(p_list)):\n",
    "        if(p_list[i] not in chars):\n",
    "            plain = plain.replace(p_list[i],\"\")\n",
    "    key = generate_key()\n",
    "    encrypted = encrypt(key, plain)\n",
    "    decrypted = decrypt(key, encrypted)\n",
    "    print('Key: ',key)\n",
    "    print('Plain Text: ',plain)\n",
    "    print('Encrypted Text: ',encrypted)\n",
    "    print('Decrypted Text: ',decrypted)"
   ]
  },
  {
   "cell_type": "code",
   "execution_count": 37,
   "metadata": {},
   "outputs": [
    {
     "name": "stdout",
     "output_type": "stream",
     "text": [
      "Plain Text :  TOBEORNOTTOBETHATISTHEQUESTION\n",
      "Encrypted Text : WCHHCXQCZWCHHHNDHOVHNHEAHGZLCT\n",
      "Decrypted Text : TOBEORNOTTOBETHATISTHEQUESTION\n"
     ]
    }
   ],
   "source": [
    "'''\n",
    "#2\n",
    "Implement the Vigenere cipher (enryption & decryption). Work with a permissible alphabet\n",
    "containing only the English alphabet characters without a space. The plaintext P = TO BE OR\n",
    "NOT TO BE THAT IS THE QUESTION (omit spaces befor encryption), the key is K= DOG. What\n",
    "is the ciphertext?\n",
    "'''\n",
    "\n",
    "chars = 'ABCDEFGHIJKLMNOPQRSTUVWXYZ'\n",
    "\n",
    "def generateKey(plain, key):\n",
    "    key = list(key)\n",
    "    if(len(plain) == len(key)):\n",
    "        return(key)\n",
    "    else:\n",
    "        for i in range(len(plain) - len(key)):\n",
    "            key.append(key[i % len(key)])\n",
    "    return(\"\".join(key))\n",
    "\n",
    "\n",
    "def Encryption(plain, key):\n",
    "    cipher = []\n",
    "    for i in range(len(plain)):\n",
    "        x = (ord(plain[i]) + ord(key[i])) % 26\n",
    "        x += ord('A')\n",
    "        cipher.append(chr(x))\n",
    "    return(\"\".join(cipher))\n",
    "\n",
    "\n",
    "def Decryption(cipher, key):\n",
    "    plain = []\n",
    "    for i in range(len(cipher)):\n",
    "        x = (ord(cipher[i]) - ord(key[i]) + 26) % 26\n",
    "        x += ord('A')\n",
    "        plain.append(chr(x))\n",
    "    return(\"\".join(plain))\n",
    "\n",
    "if __name__ == \"__main__\":\n",
    "    plain = \"TO BE OR NOT TO BE THAT IS THE QUESTION!\"\n",
    "    plain = plain.replace(\" \",\"\")\n",
    "    keyword = \"DOG\"\n",
    "    p_list = list(plain)\n",
    "    for i in range(len(p_list)):\n",
    "        if(p_list[i] not in chars):\n",
    "            plain = plain.replace(p_list[i],\"\")\n",
    "    key = generateKey(plain, keyword)\n",
    "    cipher = Encryption(plain,key)\n",
    "    print(\"Plain Text : \",plain)\n",
    "    print(\"Encrypted Text :\", cipher)\n",
    "    print(\"Decrypted Text :\",Decryption(cipher, key))"
   ]
  },
  {
   "cell_type": "code",
   "execution_count": null,
   "metadata": {},
   "outputs": [],
   "source": []
  }
 ],
 "metadata": {
  "kernelspec": {
   "display_name": "Python 3",
   "language": "python",
   "name": "python3"
  },
  "language_info": {
   "codemirror_mode": {
    "name": "ipython",
    "version": 3
   },
   "file_extension": ".py",
   "mimetype": "text/x-python",
   "name": "python",
   "nbconvert_exporter": "python",
   "pygments_lexer": "ipython3",
   "version": "3.8.5"
  }
 },
 "nbformat": 4,
 "nbformat_minor": 4
}
