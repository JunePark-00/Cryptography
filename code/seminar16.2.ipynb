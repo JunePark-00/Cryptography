{
 "cells": [
  {
   "cell_type": "code",
   "execution_count": 11,
   "metadata": {},
   "outputs": [
    {
     "name": "stdout",
     "output_type": "stream",
     "text": [
      "Plain Text :  My name is June\n",
      "Shift :  3\n",
      "Encrypted Text:  PBQDPHLVMXQH\n",
      "Decrypted Text:  MYNAMEISJUNE\n"
     ]
    }
   ],
   "source": [
    "#1\n",
    "'''\n",
    "Implement (the choice of programming language is up to you) the Generalized Caesar Cipher\n",
    "(Shift Cipher). The permissible alphabet is English alphabet without spaces (uppercase only).\n",
    "Inputs must be entered from standard input (keyboard), outputs will be written to standard\n",
    "output (console). You must handle any impermissible characters that would appear in the\n",
    "input. The key will also be entered from the standard input. No GUI is needed yet, it can be a\n",
    "simple console application.\n",
    "'''\n",
    "\n",
    "chars = \"ABCDEFGHIJKLMNOPQRSTUVWXYZ\"\n",
    "\n",
    "def Encryption(plain,shift):\n",
    "    result = \"\"\n",
    "    for i in range(len(plain)):\n",
    "        char = plain[i]\n",
    "        if (char.isupper()):\n",
    "            result += chr((ord(char) + shift - 65) % 26 + 65)\n",
    "        elif (char.islower()):\n",
    "            result += chr((ord(char) + shift - 97) % 26 + 97)\n",
    "            result = result.upper()\n",
    "    return result\n",
    "\n",
    "def Decryption(encrypted,shift):\n",
    "    result = \"\"\n",
    "    for c in encrypted:\n",
    "        if c in chars:\n",
    "            position = chars.find(c)\n",
    "            new_position = (position - shift) % 26\n",
    "            new_character = chars[new_position]\n",
    "            result += new_character\n",
    "        else:\n",
    "            result += c\n",
    "            \n",
    "    return result\n",
    "\n",
    "if __name__ == \"__main__\": \n",
    "    plain = \"My name is June\"\n",
    "    shift = 3\n",
    "    encrypted = Encryption(plain,shift)\n",
    "    decrypted = Decryption(encrypted,shift)\n",
    "    print(\"Plain Text : \",plain)\n",
    "    print(\"Shift : \",str(shift))\n",
    "    print(\"Encrypted Text: \",encrypted)\n",
    "    print(\"Decrypted Text: \",decrypted)"
   ]
  },
  {
   "cell_type": "code",
   "execution_count": 15,
   "metadata": {},
   "outputs": [
    {
     "name": "stdout",
     "output_type": "stream",
     "text": [
      "Encrypted Text: GMXMIWLEZISJXIRFSYRGIHFEGOJVSQGVMWIWJVSQTERHIQMGWERHIEVXLUYEOIWXSJPSSHWERHJ MVIWXLIASVPHWYVFERTSAIVLSYWIWLEZIIQIVKIHWXVSRKIVALIRJEGIHAMXLEHZIVWMXCEJXIVXLIKVI EXJMVISJPSRHSRHIWXVSCIHQSWXSJXLIGMXCEVEJXSJJMVIWEJIXCVIKYPEXMSRWAIVIYWLIVIHMRFY MPHIVWWAETTIHXMQFIVJSVFVMGOSVWXSRIAEPPWAIVIQEHIXLMGOIVWXVIIXWFIGEQIAMHIVALIR GLSPIVEXSVIXLVSYKLEQIVMGERIACSVOERHSXLIVGMXMIWMRXVSHYGIHWIAEKIWCWXIQWERHTYFP MGTEVOWXSHECWYVFEREVIEWJEGIEGLEPPIRKISJEHMJJIVIRXWSVXAMXLXLIQEWWVIXYVRXSSJJMGI ASVOWXMPPYRGIVXEMRXLITERHIQMGLEWWLEVTIRIHHIFEXIEFSYXALEXXLIJYXYVILSPHWJSVXLIMVG SQQIVGMEPLYFWOICFYWMRIWWHMWXVMGXWPMOIQERLEXXERXLIGMXCSJPSRHSRXSOCSWQEVY RSYGLMERHPEHÉJIRWIMRTEVMWLEZIFSVRIXLIFVYRXSJXLISJJMGIIBSHYW\n",
      "Key: 4\n",
      "Decrypted Text:  CITIESHAVEOFTENBOUNCEDBACKFROMCRISESFROMPANDEMICSANDEARTHQUAKESTOFLOODSANDF IRESTHEWORLDSURBANPOWERHOUSESHAVEEMERGEDSTRONGERWHENFACEDWITHADVERSITYAFTERTHEGRE ATFIREOFLONDONDESTROYEDMOSTOFTHECITYARAFTOFFIRESAFETYREGULATIONSWEREUSHEREDINBU ILDERSSWAPPEDTIMBERFORBRICKORSTONEWALLSWEREMADETHICKERSTREETSBECAMEWIDERWHEN CHOLERATORETHROUGHAMERICANEWYORKANDOTHERCITIESINTRODUCEDSEWAGESYSTEMSANDPUBL ICPARKSTODAYSURBANAREASFACEACHALLENGEOFADIFFERENTSORTWITHTHEMASSRETURNTOOFFICE WORKSTILLUNCERTAINTHEPANDEMICHASSHARPENEDDEBATEABOUTWHATTHEFUTUREHOLDSFORTHEIRC OMMERCIALHUBSKEYBUSINESSDISTRICTSLIKEMANHATTANTHECITYOFLONDONTOKYOSMARU NOUCHIANDLADÉFENSEINPARISHAVEBORNETHEBRUNTOFTHEOFFICEEXODUS\n",
      "If it is right, enter the 1: 1\n"
     ]
    }
   ],
   "source": [
    "#2\n",
    "'''\n",
    "Implement the brute force attack against the Generalized Caesar Cipher (Shift Cipher). \n",
    "Break the given ciphertext. What is the obtained plaintext and the key?\n",
    "'''\n",
    "\n",
    "chars = \"ABCDEFGHIJKLMNOPQRSTUVWXYZ\"\n",
    "\n",
    "def Decryption(encrypted,key):\n",
    "    result = \"\"\n",
    "    for c in encrypted:\n",
    "        if c in chars:\n",
    "            index1 = chars.find(c)\n",
    "            index2 = (index1 - key) % 26\n",
    "            sub_char = chars[index2]\n",
    "            result += sub_char\n",
    "        else:\n",
    "            result += c\n",
    "            \n",
    "    return result\n",
    "\n",
    "if __name__ == \"__main__\":\n",
    "    encrypted = input(\"Encrypted Text: \")\n",
    "    while True:\n",
    "        key = int(input(\"Key: \"))\n",
    "        print(\"Decrypted Text: \",Decryption(encrypted,key))\n",
    "        \n",
    "        flag = input(\"If it is right, enter the 1: \")\n",
    "        if(flag=='1'):\n",
    "            break\n",
    "            \n",
    "            \n",
    "'''\n",
    "Key\n",
    ">> 4\n",
    "Result\n",
    ">> CITIESHAVEOFTENBOUNCEDBACKFROMCRISESFROMPANDEMICSANDEARTHQUAKESTOFLOODSANDF IRESTHEWORLDSURBANPOWERHOUSESHAVEEMERGEDSTRONGERWHENFACEDWITHADVERSITYAFTERTHEGRE ATFIREOFLONDONDESTROYEDMOSTOFTHECITYARAFTOFFIRESAFETYREGULATIONSWEREUSHEREDINBU ILDERSSWAPPEDTIMBERFORBRICKORSTONEWALLSWEREMADETHICKERSTREETSBECAMEWIDERWHEN CHOLERATORETHROUGHAMERICANEWYORKANDOTHERCITIESINTRODUCEDSEWAGESYSTEMSANDPUBL ICPARKSTODAYSURBANAREASFACEACHALLENGEOFADIFFERENTSORTWITHTHEMASSRETURNTOOFFICE WORKSTILLUNCERTAINTHEPANDEMICHASSHARPENEDDEBATEABOUTWHATTHEFUTUREHOLDSFORTHEIRC OMMERCIALHUBSKEYBUSINESSDISTRICTSLIKEMANHATTANTHECITYOFLONDONTOKYOSMARU NOUCHIANDLADÉFENSEINPARISHAVEBORNETHEBRUNTOFTHEOFFICEEXODUS\n",
    "'''\n",
    "    "
   ]
  },
  {
   "cell_type": "code",
   "execution_count": null,
   "metadata": {},
   "outputs": [],
   "source": []
  }
 ],
 "metadata": {
  "kernelspec": {
   "display_name": "Python 3",
   "language": "python",
   "name": "python3"
  },
  "language_info": {
   "codemirror_mode": {
    "name": "ipython",
    "version": 3
   },
   "file_extension": ".py",
   "mimetype": "text/x-python",
   "name": "python",
   "nbconvert_exporter": "python",
   "pygments_lexer": "ipython3",
   "version": "3.8.5"
  }
 },
 "nbformat": 4,
 "nbformat_minor": 4
}
