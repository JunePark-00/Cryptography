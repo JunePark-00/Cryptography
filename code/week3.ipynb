{
 "cells": [
  {
   "cell_type": "code",
   "execution_count": 4,
   "metadata": {},
   "outputs": [
    {
     "name": "stdout",
     "output_type": "stream",
     "text": [
      "===Transposition===\n",
      "> Input Chiper message\n",
      "> YYGCTAPOHPRR\n",
      "> Input decrypt key\n",
      "> 4 12 1 10 5 8 3 11 6 7 9 2\n",
      "[*] \n"
     ]
    }
   ],
   "source": [
    "def solve(chip, key):\n",
    "    chip = list(chip)\n",
    "    key = list(key)\n",
    "    mes = ''\n",
    "    for i in range(len(chip)+len(key)):\n",
    "        try:\n",
    "            mes += chip[int(key[i%len(key)])+(i/len(key))*len(key)-1]\n",
    "        except :\n",
    "            pass\n",
    "    return mes\n",
    " \n",
    "if __name__ == '__main__':\n",
    "    print(\"===Transposition===\")\n",
    "    print(\"> Input Chiper message\")\n",
    "    chip = input('> ')\n",
    "    print(\"> Input decrypt key\")\n",
    "    key = input('> ')\n",
    "    print(\"[*] \"+solve(chip,key))"
   ]
  },
  {
   "cell_type": "code",
   "execution_count": null,
   "metadata": {},
   "outputs": [],
   "source": []
  }
 ],
 "metadata": {
  "kernelspec": {
   "display_name": "Python 3",
   "language": "python",
   "name": "python3"
  },
  "language_info": {
   "codemirror_mode": {
    "name": "ipython",
    "version": 3
   },
   "file_extension": ".py",
   "mimetype": "text/x-python",
   "name": "python",
   "nbconvert_exporter": "python",
   "pygments_lexer": "ipython3",
   "version": "3.8.5"
  }
 },
 "nbformat": 4,
 "nbformat_minor": 4
}
