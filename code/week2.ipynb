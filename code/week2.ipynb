{
 "cells": [
  {
   "cell_type": "code",
   "execution_count": 2,
   "metadata": {},
   "outputs": [
    {
     "name": "stdout",
     "output_type": "stream",
     "text": [
      "Plain Text : My name is June\n",
      "Shift : 3\n",
      "Cipher: PBQDPHLVMXQH\n"
     ]
    }
   ],
   "source": [
    "def encrypt(p,shift):\n",
    "    result = \"\"\n",
    "    for i in range(len(p)):\n",
    "        char = p[i]\n",
    "        if (char.isupper()):\n",
    "            result += chr((ord(char) + shift - 65) % 26 + 65)\n",
    "        elif (char.islower()):\n",
    "            result += chr((ord(char) + shift - 97) % 26 + 97)\n",
    "            result = result.upper()\n",
    "    return result\n",
    "\n",
    "if __name__ == \"__main__\": \n",
    "    p = \"My name is June\"\n",
    "    shift = 3\n",
    "\n",
    "    print(\"Plain Text : \" + p)\n",
    "    print(\"Shift : \" + str(shift))\n",
    "    print(\"Cipher: \" + encrypt(p,shift))"
   ]
  },
  {
   "cell_type": "code",
   "execution_count": 1,
   "metadata": {},
   "outputs": [
    {
     "name": "stdout",
     "output_type": "stream",
     "text": [
      "Encrypted Text: DJUJFTIBWFPGUFOCPVODFECBDLGSPNDSJTFTGSPNQBOEFNJDTBOEFBSUIRVBLFTUPGMPPETBOEGJSFTUIFXPSMETVSCBOQPXFSIPVTFTIBWFFNFSHFETUSPOHFSXIFOGBDFEXJUIBEWFSTJUZBGUFSUIFHSFBUGJSFPGMPOEPOEFTUSPZFENPTUPGUIFDJUZBSBGUPGGJSFTBGFUZSFHVMBUJPOTXFSFVTIFSFEJOCVJMEFSTTXBQQFEUJNCFSGPSCSJDLPSTUPOFXBMMTXFSFNBEFUIJDLFSTUSFFUTCFDBNFXJEFSXIFODIPMFSBUPSFUISPVHIBNFSJDBOFXZPSLBOEPUIFSDJUJFTJOUSPEVDFETFXBHFTZTUFNTBOEQVCMJDQBSLTUPEBZTVSCBOBSFBTGBDFBDIBMMFOHFPGBEJGGFSFOUTPSUXJUIUIFNBTTSFUVSOUPPGGJDFXPSLTUJMMVODFSUBJOUIFQBOEFNJDIBTTIBSQFOFEEFCBUFBCPVUXIBUUIFGVUVSFIPMETGPSUIFJSDPNNFSDJBMIVCTLFZCVTJOFTTEJTUSJDUTMJLFNBOIBUUBOUIFDJUZPGMPOEPOUPLZPTNBSVOPVDIJBOEMBEDGFOTFJOQBSJTIBWFCPSOFUIFCSVOUPGUIFPGGJDFFYPEVT\n",
      "Decrypted Text: GMXMIWLEZISJXIRFSYRGIHFEGOJVSQGVMWIWJVSQTERHIQMGWERHIEVXLUYEOIWXSJPSSHWERHJMVIWXLIASVPHWYVFERTSAIVLSYWIWLEZIIQIVKIHWXVSRKIVALIRJEGIHAMXLEHZIVWMXCEJXIVXLIKVIEXJMVISJPSRHSRHIWXVSCIHQSWXSJXLIGMXCEVEJXSJJMVIWEJIXCVIKYPEXMSRWAIVIYWLIVIHMRFYMPHIVWWAETTIHXMQFIVJSVFVMGOSVWXSRIAEPPWAIVIQEHIXLMGOIVWXVIIXWFIGEQIAMHIVALIRGLSPIVEXSVIXLVSYKLEQIVMGERIACSVOERHSXLIVGMXMIWMRXVSHYGIHWIAEKIWCWXIQWERHTYFPMGTEVOWXSHECWYVFEREVIEWJEGIEGLEPPIRKISJEHMJJIVIRXWSVXAMXLXLIQEWWVIXYVRXSSJJMGIASVOWXMPPYRGIVXEMRXLITERHIQMGLEWWLEVTIRIHHIFEXIEFSYXALEXXLIJYXYVILSPHWJSVXLIMVGSQQIVGMEPLYFWOICFYWMRIWWHMWXVMGXWPMOIQERLEXXERXLIGMXCSJPSRHSRXSOCSWQEVYRSYGLMERHPEHGJIRWIMRTEVMWLEZIFSVRIXLIFVYRXSJXLISJJMGIIBSHYW\n"
     ]
    }
   ],
   "source": [
    "def generateKey(string, key):\n",
    "    key = list(key) \n",
    "    if len(string) == len(key): \n",
    "        return(key) \n",
    "    else: \n",
    "        for i in range(len(string) -len(key)): \n",
    "            key.append(key[i % len(key)]) \n",
    "    return(\"\".join(key)) \n",
    "  \n",
    "def encryption(string, key): \n",
    "    encrypt_text = [] \n",
    "    for i in range(len(string)): \n",
    "        x = (ord(string[i]) +ord(key[i])) % 26\n",
    "        x += ord('A') \n",
    "        encrypt_text.append(chr(x)) \n",
    "    return(\"\".join(encrypt_text)) \n",
    "\n",
    "def decryption(encrypt_text, key): \n",
    "    orig_text = [] \n",
    "    for i in range(len(encrypt_text)): \n",
    "        x = (ord(encrypt_text[i]) -ord(key[i]) + 26) % 26\n",
    "        x += ord('A') \n",
    "        orig_text.append(chr(x)) \n",
    "    return(\"\".join(orig_text)) \n",
    "\n",
    "if __name__ == \"__main__\": \n",
    "    string = \"THE ONRUSH OF A CONQUERING FORCE IS LIKE THE BURSTING OF PENT UP WATERS INTO A CHASM A THOUSAND FATHOMS DEEP\"\n",
    "    string = string.replace(\" \",\"\")\n",
    "    keyword = \"X\"\n",
    "    key = generateKey(string, keyword) \n",
    "    encrypt_text = encryption(string,key) \n",
    "    print(\"Encrypted Text:\", encrypt_text) \n",
    "    print(\"Decrypted Text:\", decryption(encrypt_text, key)) "
   ]
  },
  {
   "cell_type": "code",
   "execution_count": null,
   "metadata": {},
   "outputs": [],
   "source": []
  }
 ],
 "metadata": {
  "kernelspec": {
   "display_name": "Python 3",
   "language": "python",
   "name": "python3"
  },
  "language_info": {
   "codemirror_mode": {
    "name": "ipython",
    "version": 3
   },
   "file_extension": ".py",
   "mimetype": "text/x-python",
   "name": "python",
   "nbconvert_exporter": "python",
   "pygments_lexer": "ipython3",
   "version": "3.8.5"
  }
 },
 "nbformat": 4,
 "nbformat_minor": 4
}
